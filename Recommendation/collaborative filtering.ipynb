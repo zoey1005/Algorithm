{
 "cells": [
  {
   "cell_type": "code",
   "execution_count": 2,
   "outputs": [],
   "source": [
    "import pandas as pd\n",
    "from sklearn.metrics import jaccard_score, pairwise_distances\n",
    "import numpy as np"
   ],
   "metadata": {
    "collapsed": false,
    "pycharm": {
     "name": "#%%\n"
    }
   }
  },
  {
   "cell_type": "code",
   "execution_count": 3,
   "outputs": [
    {
     "data": {
      "text/plain": "       Item A  Item B  Item C  Item D  Item E\nUser1       1       0       1       1       0\nUser2       1       0       0       1       1\nUser3       1       0       1       0       0\nUser4       0       1       0       1       1\nUser5       1       1       1       0       1",
      "text/html": "<div>\n<style scoped>\n    .dataframe tbody tr th:only-of-type {\n        vertical-align: middle;\n    }\n\n    .dataframe tbody tr th {\n        vertical-align: top;\n    }\n\n    .dataframe thead th {\n        text-align: right;\n    }\n</style>\n<table border=\"1\" class=\"dataframe\">\n  <thead>\n    <tr style=\"text-align: right;\">\n      <th></th>\n      <th>Item A</th>\n      <th>Item B</th>\n      <th>Item C</th>\n      <th>Item D</th>\n      <th>Item E</th>\n    </tr>\n  </thead>\n  <tbody>\n    <tr>\n      <th>User1</th>\n      <td>1</td>\n      <td>0</td>\n      <td>1</td>\n      <td>1</td>\n      <td>0</td>\n    </tr>\n    <tr>\n      <th>User2</th>\n      <td>1</td>\n      <td>0</td>\n      <td>0</td>\n      <td>1</td>\n      <td>1</td>\n    </tr>\n    <tr>\n      <th>User3</th>\n      <td>1</td>\n      <td>0</td>\n      <td>1</td>\n      <td>0</td>\n      <td>0</td>\n    </tr>\n    <tr>\n      <th>User4</th>\n      <td>0</td>\n      <td>1</td>\n      <td>0</td>\n      <td>1</td>\n      <td>1</td>\n    </tr>\n    <tr>\n      <th>User5</th>\n      <td>1</td>\n      <td>1</td>\n      <td>1</td>\n      <td>0</td>\n      <td>1</td>\n    </tr>\n  </tbody>\n</table>\n</div>"
     },
     "execution_count": 3,
     "metadata": {},
     "output_type": "execute_result"
    }
   ],
   "source": [
    "users=[\"User1\", \"User2\", \"User3\",\"User4\", \"User5\"]\n",
    "items=[\"Item A\", \"Item B\", \"Item C\", \"Item D\", \"Item E\"]\n",
    "data=[\n",
    "    [1, 0, 1, 1, 0],\n",
    "    [1, 0, 0, 1, 1],\n",
    "    [1, 0, 1, 0, 0],\n",
    "    [0, 1, 0, 1, 1],\n",
    "    [1, 1, 1, 0, 1]\n",
    "]\n",
    "df = pd.DataFrame(data, columns = items, index = users)\n",
    "df"
   ],
   "metadata": {
    "collapsed": false,
    "pycharm": {
     "name": "#%%\n"
    }
   }
  },
  {
   "cell_type": "code",
   "execution_count": 4,
   "outputs": [
    {
     "data": {
      "text/plain": "        User1  User2  User3  User4  User5\nItem A      1      1      1      0      1\nItem B      0      0      0      1      1\nItem C      1      0      1      0      1\nItem D      1      1      0      1      0\nItem E      0      1      0      1      1",
      "text/html": "<div>\n<style scoped>\n    .dataframe tbody tr th:only-of-type {\n        vertical-align: middle;\n    }\n\n    .dataframe tbody tr th {\n        vertical-align: top;\n    }\n\n    .dataframe thead th {\n        text-align: right;\n    }\n</style>\n<table border=\"1\" class=\"dataframe\">\n  <thead>\n    <tr style=\"text-align: right;\">\n      <th></th>\n      <th>User1</th>\n      <th>User2</th>\n      <th>User3</th>\n      <th>User4</th>\n      <th>User5</th>\n    </tr>\n  </thead>\n  <tbody>\n    <tr>\n      <th>Item A</th>\n      <td>1</td>\n      <td>1</td>\n      <td>1</td>\n      <td>0</td>\n      <td>1</td>\n    </tr>\n    <tr>\n      <th>Item B</th>\n      <td>0</td>\n      <td>0</td>\n      <td>0</td>\n      <td>1</td>\n      <td>1</td>\n    </tr>\n    <tr>\n      <th>Item C</th>\n      <td>1</td>\n      <td>0</td>\n      <td>1</td>\n      <td>0</td>\n      <td>1</td>\n    </tr>\n    <tr>\n      <th>Item D</th>\n      <td>1</td>\n      <td>1</td>\n      <td>0</td>\n      <td>1</td>\n      <td>0</td>\n    </tr>\n    <tr>\n      <th>Item E</th>\n      <td>0</td>\n      <td>1</td>\n      <td>0</td>\n      <td>1</td>\n      <td>1</td>\n    </tr>\n  </tbody>\n</table>\n</div>"
     },
     "execution_count": 4,
     "metadata": {},
     "output_type": "execute_result"
    }
   ],
   "source": [
    "df.T"
   ],
   "metadata": {
    "collapsed": false,
    "pycharm": {
     "name": "#%%\n"
    }
   }
  },
  {
   "cell_type": "markdown",
   "source": [
    "##### 直接计算两项的系数"
   ],
   "metadata": {
    "collapsed": false,
    "pycharm": {
     "name": "#%% md\n"
    }
   }
  },
  {
   "cell_type": "code",
   "execution_count": 5,
   "outputs": [
    {
     "data": {
      "text/plain": "0.2"
     },
     "execution_count": 5,
     "metadata": {},
     "output_type": "execute_result"
    }
   ],
   "source": [
    "jaccard_score(df['Item A'], df['Item B'])"
   ],
   "metadata": {
    "collapsed": false,
    "pycharm": {
     "name": "#%%\n"
    }
   }
  },
  {
   "cell_type": "code",
   "execution_count": 6,
   "outputs": [
    {
     "data": {
      "text/plain": "0.25"
     },
     "execution_count": 6,
     "metadata": {},
     "output_type": "execute_result"
    }
   ],
   "source": [
    "jaccard_score(df['Item B'], df['Item C'])"
   ],
   "metadata": {
    "collapsed": false,
    "pycharm": {
     "name": "#%%\n"
    }
   }
  },
  {
   "cell_type": "markdown",
   "source": [
    "##### 所有数据两两的系数"
   ],
   "metadata": {
    "collapsed": false,
    "pycharm": {
     "name": "#%% md\n"
    }
   }
  },
  {
   "cell_type": "code",
   "execution_count": 7,
   "outputs": [
    {
     "name": "stderr",
     "output_type": "stream",
     "text": [
      "/Users/zhuoyujiang/opt/anaconda3/lib/python3.9/site-packages/sklearn/metrics/pairwise.py:1776: DataConversionWarning: Data was converted to boolean for metric jaccard\n",
      "  warnings.warn(msg, DataConversionWarning)\n"
     ]
    },
    {
     "data": {
      "text/plain": "          User1  User2     User3  User4  User5\nUser1  1.000000   0.50  0.666667    0.2    0.4\nUser2  0.500000   1.00  0.250000    0.5    0.4\nUser3  0.666667   0.25  1.000000    0.0    0.5\nUser4  0.200000   0.50  0.000000    1.0    0.4\nUser5  0.400000   0.40  0.500000    0.4    1.0",
      "text/html": "<div>\n<style scoped>\n    .dataframe tbody tr th:only-of-type {\n        vertical-align: middle;\n    }\n\n    .dataframe tbody tr th {\n        vertical-align: top;\n    }\n\n    .dataframe thead th {\n        text-align: right;\n    }\n</style>\n<table border=\"1\" class=\"dataframe\">\n  <thead>\n    <tr style=\"text-align: right;\">\n      <th></th>\n      <th>User1</th>\n      <th>User2</th>\n      <th>User3</th>\n      <th>User4</th>\n      <th>User5</th>\n    </tr>\n  </thead>\n  <tbody>\n    <tr>\n      <th>User1</th>\n      <td>1.000000</td>\n      <td>0.50</td>\n      <td>0.666667</td>\n      <td>0.2</td>\n      <td>0.4</td>\n    </tr>\n    <tr>\n      <th>User2</th>\n      <td>0.500000</td>\n      <td>1.00</td>\n      <td>0.250000</td>\n      <td>0.5</td>\n      <td>0.4</td>\n    </tr>\n    <tr>\n      <th>User3</th>\n      <td>0.666667</td>\n      <td>0.25</td>\n      <td>1.000000</td>\n      <td>0.0</td>\n      <td>0.5</td>\n    </tr>\n    <tr>\n      <th>User4</th>\n      <td>0.200000</td>\n      <td>0.50</td>\n      <td>0.000000</td>\n      <td>1.0</td>\n      <td>0.4</td>\n    </tr>\n    <tr>\n      <th>User5</th>\n      <td>0.400000</td>\n      <td>0.40</td>\n      <td>0.500000</td>\n      <td>0.4</td>\n      <td>1.0</td>\n    </tr>\n  </tbody>\n</table>\n</div>"
     },
     "execution_count": 7,
     "metadata": {},
     "output_type": "execute_result"
    }
   ],
   "source": [
    "user_similarity = 1 - pairwise_distances(df.values, metric='jaccard')\n",
    "user_similarity = pd.DataFrame(user_similarity, columns=users, index = users)\n",
    "user_similarity"
   ],
   "metadata": {
    "collapsed": false,
    "pycharm": {
     "name": "#%%\n"
    }
   }
  },
  {
   "cell_type": "markdown",
   "source": [
    "###### 计算物品相似度"
   ],
   "metadata": {
    "collapsed": false,
    "pycharm": {
     "name": "#%% md\n"
    }
   }
  },
  {
   "cell_type": "code",
   "execution_count": 8,
   "outputs": [
    {
     "name": "stderr",
     "output_type": "stream",
     "text": [
      "/Users/zhuoyujiang/opt/anaconda3/lib/python3.9/site-packages/sklearn/metrics/pairwise.py:1776: DataConversionWarning: Data was converted to boolean for metric jaccard\n",
      "  warnings.warn(msg, DataConversionWarning)\n"
     ]
    },
    {
     "data": {
      "text/plain": "        Item A    Item B  Item C  Item D    Item E\nItem A    1.00  0.200000    0.75    0.40  0.400000\nItem B    0.20  1.000000    0.25    0.25  0.666667\nItem C    0.75  0.250000    1.00    0.20  0.200000\nItem D    0.40  0.250000    0.20    1.00  0.500000\nItem E    0.40  0.666667    0.20    0.50  1.000000",
      "text/html": "<div>\n<style scoped>\n    .dataframe tbody tr th:only-of-type {\n        vertical-align: middle;\n    }\n\n    .dataframe tbody tr th {\n        vertical-align: top;\n    }\n\n    .dataframe thead th {\n        text-align: right;\n    }\n</style>\n<table border=\"1\" class=\"dataframe\">\n  <thead>\n    <tr style=\"text-align: right;\">\n      <th></th>\n      <th>Item A</th>\n      <th>Item B</th>\n      <th>Item C</th>\n      <th>Item D</th>\n      <th>Item E</th>\n    </tr>\n  </thead>\n  <tbody>\n    <tr>\n      <th>Item A</th>\n      <td>1.00</td>\n      <td>0.200000</td>\n      <td>0.75</td>\n      <td>0.40</td>\n      <td>0.400000</td>\n    </tr>\n    <tr>\n      <th>Item B</th>\n      <td>0.20</td>\n      <td>1.000000</td>\n      <td>0.25</td>\n      <td>0.25</td>\n      <td>0.666667</td>\n    </tr>\n    <tr>\n      <th>Item C</th>\n      <td>0.75</td>\n      <td>0.250000</td>\n      <td>1.00</td>\n      <td>0.20</td>\n      <td>0.200000</td>\n    </tr>\n    <tr>\n      <th>Item D</th>\n      <td>0.40</td>\n      <td>0.250000</td>\n      <td>0.20</td>\n      <td>1.00</td>\n      <td>0.500000</td>\n    </tr>\n    <tr>\n      <th>Item E</th>\n      <td>0.40</td>\n      <td>0.666667</td>\n      <td>0.20</td>\n      <td>0.50</td>\n      <td>1.000000</td>\n    </tr>\n  </tbody>\n</table>\n</div>"
     },
     "execution_count": 8,
     "metadata": {},
     "output_type": "execute_result"
    }
   ],
   "source": [
    "item_similarity = 1- pairwise_distances(df.values.T, metric = 'jaccard')\n",
    "item_similarity = pd.DataFrame(item_similarity, columns=items, index = items)\n",
    "item_similarity"
   ],
   "metadata": {
    "collapsed": false,
    "pycharm": {
     "name": "#%%\n"
    }
   }
  },
  {
   "cell_type": "code",
   "execution_count": 9,
   "outputs": [
    {
     "data": {
      "text/plain": "{'User1': [0.6666666666666667, 0.5],\n 'User2': [0.5, 0.5],\n 'User3': [0.6666666666666667, 0.5],\n 'User4': [0.5, 0.4],\n 'User5': [0.5, 0.4]}"
     },
     "execution_count": 9,
     "metadata": {},
     "output_type": "execute_result"
    }
   ],
   "source": [
    "topN_user={}\n",
    "for i in user_similarity.index:\n",
    "    # 取出每一列数据，并删除自身，然后排序\n",
    "    column_after_sort=sorted(user_similarity.loc[i].drop([i]), reverse=True)[:2]\n",
    "    topN_user[i] =column_after_sort\n",
    "topN_user"
   ],
   "metadata": {
    "collapsed": false,
    "pycharm": {
     "name": "#%%\n"
    }
   }
  },
  {
   "cell_type": "code",
   "execution_count": 10,
   "outputs": [],
   "source": [
    "# aim= [0.5, 0.4]\n",
    "# have = user_similarity.loc[:, 'User1'].to_list()\n",
    "# index_num=[have.index(x) for x in aim]\n",
    "#\n",
    "# index = [user_similarity.index[i] for i in index_num]\n",
    "# #df.T['User1'].replace(0, np.nan).dropna().index\n",
    "# index+['User1']"
   ],
   "metadata": {
    "collapsed": false,
    "pycharm": {
     "name": "#%%\n"
    }
   }
  },
  {
   "cell_type": "code",
   "execution_count": 11,
   "outputs": [],
   "source": [
    "# #list(df.T['User1'].replace(0, np.nan).dropna().index)\n",
    "# similar_user =[]\n",
    "# for x, y in user_similarity.items:\n",
    "#     for each in y:\n",
    "#         if user_similarity.loc[:, x] == each:\n",
    "#             similar_user.append()\n",
    "#         print(x)"
   ],
   "metadata": {
    "collapsed": false,
    "pycharm": {
     "name": "#%%\n"
    }
   }
  },
  {
   "cell_type": "code",
   "execution_count": 12,
   "outputs": [],
   "source": [
    "# for values in topN_user:\n",
    "#    # print(key)\n",
    "#     print(values)"
   ],
   "metadata": {
    "collapsed": false,
    "pycharm": {
     "name": "#%%\n"
    }
   }
  },
  {
   "cell_type": "code",
   "execution_count": 13,
   "outputs": [],
   "source": [
    "# result_dict={}\n",
    "# for x in topN_user:\n",
    "#    # print(x)\n",
    "#    # similarity_num = user_similarity.loc[:, x].to_list()\n",
    "#     user_similarity.loc[user_similarity[x] ==topN_user[x],]\n",
    "#    # for y in similarity_num:\n",
    "#    #     if y not in topN_user[x]:\n",
    "#    #         result = user_similarity[x].replace(y, np.nan).dropna()\n",
    "#     #    result_index = result.index\n",
    "#     print(user_similarity)\n",
    "#    # result_dict[x] = result_index\n",
    "# #result_dict"
   ],
   "metadata": {
    "collapsed": false,
    "pycharm": {
     "name": "#%%\n"
    }
   }
  },
  {
   "cell_type": "code",
   "execution_count": 14,
   "outputs": [
    {
     "data": {
      "text/plain": "{'User1': ['User2', 'User3'],\n 'User2': ['User1', 'User4'],\n 'User3': ['User1', 'User5'],\n 'User4': ['User2', 'User5'],\n 'User5': ['User1', 'User2', 'User3', 'User4']}"
     },
     "execution_count": 14,
     "metadata": {},
     "output_type": "execute_result"
    }
   ],
   "source": [
    "# 构建推荐用户结果\n",
    "recommend_result = {}\n",
    "for x, y in topN_user.items():\n",
    "    index_result = user_similarity.loc[user_similarity[x].isin(y)].index.tolist()\n",
    "    recommend_result[x] = index_result\n",
    "recommend_result"
   ],
   "metadata": {
    "collapsed": false,
    "pycharm": {
     "name": "#%%\n"
    }
   }
  },
  {
   "cell_type": "code",
   "execution_count": 47,
   "outputs": [
    {
     "data": {
      "text/plain": "{'User1': ['User4', 'User5'],\n 'User2': ['User3', 'User5'],\n 'User3': ['User4', 'User2'],\n 'User4': ['User3', 'User1'],\n 'User5': []}"
     },
     "execution_count": 47,
     "metadata": {},
     "output_type": "execute_result"
    }
   ],
   "source": [
    "# 协同推荐用户\n",
    "user_filtered={}\n",
    "user_set=set()\n",
    "for user, recommend_users in recommend_result.items():\n",
    "    for each in recommend_users:\n",
    "        user_set = user_set.union(set(recommend_result[each]))\n",
    "        user_set -= set(recommend_users)\n",
    "        user_filtered[user] = list(user_set-set(user))\n",
    "    user_filtered[user].remove(user)\n",
    "user_filtered"
   ],
   "metadata": {
    "collapsed": false,
    "pycharm": {
     "name": "#%%\n"
    }
   }
  },
  {
   "cell_type": "code",
   "execution_count": 53,
   "outputs": [
    {
     "data": {
      "text/plain": "{'User1': ['Item E', 'Item B'],\n 'User2': ['Item C', 'Item B'],\n 'User3': ['Item E', 'Item D', 'Item B'],\n 'User4': ['Item A', 'Item C']}"
     },
     "execution_count": 53,
     "metadata": {},
     "output_type": "execute_result"
    }
   ],
   "source": [
    "# 过滤掉已有的推荐\n",
    "item_filtered={}\n",
    "item_set = set()\n",
    "for key, value in user_filtered.items():\n",
    "    remove_set = set(df.T[key].replace(0, np.nan).dropna().index)\n",
    "    for u in value:\n",
    "        item_set = item_set.union(set(df.T[u].replace(0, np.nan).dropna().index))\n",
    "        item_set -= remove_set\n",
    "        item_filtered[key] = list(item_set)\n",
    "item_filtered"
   ],
   "metadata": {
    "collapsed": false,
    "pycharm": {
     "name": "#%%\n"
    }
   }
  },
  {
   "cell_type": "markdown",
   "source": [
    "##### continuous data eg.rating"
   ],
   "metadata": {
    "collapsed": false,
    "pycharm": {
     "name": "#%% md\n"
    }
   }
  },
  {
   "cell_type": "code",
   "execution_count": 57,
   "outputs": [
    {
     "data": {
      "text/plain": "        User1   User2   User3   User4   User5\nUser1  1.0000  0.8528  0.7071  0.0000 -0.7921\nUser2  0.8528  1.0000  0.4677  0.4900 -0.9001\nUser3  0.7071  0.4677  1.0000 -0.1612 -0.4666\nUser4  0.0000  0.4900 -0.1612  1.0000 -0.6415\nUser5 -0.7921 -0.9001 -0.4666 -0.6415  1.0000",
      "text/html": "<div>\n<style scoped>\n    .dataframe tbody tr th:only-of-type {\n        vertical-align: middle;\n    }\n\n    .dataframe tbody tr th {\n        vertical-align: top;\n    }\n\n    .dataframe thead th {\n        text-align: right;\n    }\n</style>\n<table border=\"1\" class=\"dataframe\">\n  <thead>\n    <tr style=\"text-align: right;\">\n      <th></th>\n      <th>User1</th>\n      <th>User2</th>\n      <th>User3</th>\n      <th>User4</th>\n      <th>User5</th>\n    </tr>\n  </thead>\n  <tbody>\n    <tr>\n      <th>User1</th>\n      <td>1.0000</td>\n      <td>0.8528</td>\n      <td>0.7071</td>\n      <td>0.0000</td>\n      <td>-0.7921</td>\n    </tr>\n    <tr>\n      <th>User2</th>\n      <td>0.8528</td>\n      <td>1.0000</td>\n      <td>0.4677</td>\n      <td>0.4900</td>\n      <td>-0.9001</td>\n    </tr>\n    <tr>\n      <th>User3</th>\n      <td>0.7071</td>\n      <td>0.4677</td>\n      <td>1.0000</td>\n      <td>-0.1612</td>\n      <td>-0.4666</td>\n    </tr>\n    <tr>\n      <th>User4</th>\n      <td>0.0000</td>\n      <td>0.4900</td>\n      <td>-0.1612</td>\n      <td>1.0000</td>\n      <td>-0.6415</td>\n    </tr>\n    <tr>\n      <th>User5</th>\n      <td>-0.7921</td>\n      <td>-0.9001</td>\n      <td>-0.4666</td>\n      <td>-0.6415</td>\n      <td>1.0000</td>\n    </tr>\n  </tbody>\n</table>\n</div>"
     },
     "execution_count": 57,
     "metadata": {},
     "output_type": "execute_result"
    }
   ],
   "source": [
    "data2=[\n",
    "    [5,3,4,4,None],\n",
    "    [3,1,2,3,3],\n",
    "    [4,3,4,3,5],\n",
    "    [3,3,1,5,4],\n",
    "    [1,5,5,2,1]\n",
    "]\n",
    "df2=pd.DataFrame(data2, columns=items, index=users)\n",
    "user_similar = round(df2.T.corr(),4)\n",
    "user_similar\n",
    "# 用户2对某一电影的评分可以根据和他最相似的（用户1评分*相似度+用户4评分*相似度）/相似度之和"
   ],
   "metadata": {
    "collapsed": false,
    "pycharm": {
     "name": "#%%\n"
    }
   }
  },
  {
   "cell_type": "code",
   "execution_count": 56,
   "outputs": [],
   "source": [
    "item_similar = round(df2.corr(),4)"
   ],
   "metadata": {
    "collapsed": false,
    "pycharm": {
     "name": "#%%\n"
    }
   }
  },
  {
   "cell_type": "markdown",
   "source": [
    "##### ALS矩阵分解"
   ],
   "metadata": {
    "collapsed": false,
    "pycharm": {
     "name": "#%% md\n"
    }
   }
  },
  {
   "cell_type": "code",
   "execution_count": null,
   "outputs": [],
   "source": [],
   "metadata": {
    "collapsed": false,
    "pycharm": {
     "name": "#%%\n"
    }
   }
  }
 ],
 "metadata": {
  "kernelspec": {
   "display_name": "Python 3",
   "language": "python",
   "name": "python3"
  },
  "language_info": {
   "codemirror_mode": {
    "name": "ipython",
    "version": 2
   },
   "file_extension": ".py",
   "mimetype": "text/x-python",
   "name": "python",
   "nbconvert_exporter": "python",
   "pygments_lexer": "ipython2",
   "version": "2.7.6"
  }
 },
 "nbformat": 4,
 "nbformat_minor": 0
}